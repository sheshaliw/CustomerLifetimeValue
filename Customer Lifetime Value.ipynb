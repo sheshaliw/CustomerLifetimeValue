{
 "cells": [
  {
   "cell_type": "markdown",
   "id": "e11e416c",
   "metadata": {},
   "source": [
    "Step 1: Understand the dataset\n",
    "The first thing you should do is to load the CSV file and understand the dataset. \n",
    "It is important to understand the dataset and examine if there is any missing values or outliers before doing analysis. \n",
    "In this step, you should write Python scripts to answer the following questions."
   ]
  },
  {
   "cell_type": "code",
   "execution_count": 1,
   "id": "1fde7b4d",
   "metadata": {},
   "outputs": [],
   "source": [
    "import pandas as pd\n",
    "clv = pd.read_csv(r'clv_transactions.csv')"
   ]
  },
  {
   "cell_type": "code",
   "execution_count": 2,
   "id": "fd9d2e81",
   "metadata": {},
   "outputs": [
    {
     "data": {
      "text/html": [
       "<div>\n",
       "<style scoped>\n",
       "    .dataframe tbody tr th:only-of-type {\n",
       "        vertical-align: middle;\n",
       "    }\n",
       "\n",
       "    .dataframe tbody tr th {\n",
       "        vertical-align: top;\n",
       "    }\n",
       "\n",
       "    .dataframe thead th {\n",
       "        text-align: right;\n",
       "    }\n",
       "</style>\n",
       "<table border=\"1\" class=\"dataframe\">\n",
       "  <thead>\n",
       "    <tr style=\"text-align: right;\">\n",
       "      <th></th>\n",
       "      <th>TransactionID</th>\n",
       "      <th>TransactionDate</th>\n",
       "      <th>CustomerID</th>\n",
       "      <th>Amount</th>\n",
       "    </tr>\n",
       "  </thead>\n",
       "  <tbody>\n",
       "    <tr>\n",
       "      <th>0</th>\n",
       "      <td>1</td>\n",
       "      <td>9/4/2012</td>\n",
       "      <td>1</td>\n",
       "      <td>20.26</td>\n",
       "    </tr>\n",
       "    <tr>\n",
       "      <th>1</th>\n",
       "      <td>2</td>\n",
       "      <td>5/15/2012</td>\n",
       "      <td>2</td>\n",
       "      <td>10.87</td>\n",
       "    </tr>\n",
       "    <tr>\n",
       "      <th>2</th>\n",
       "      <td>3</td>\n",
       "      <td>5/23/2014</td>\n",
       "      <td>2</td>\n",
       "      <td>2.21</td>\n",
       "    </tr>\n",
       "    <tr>\n",
       "      <th>3</th>\n",
       "      <td>4</td>\n",
       "      <td>10/24/2014</td>\n",
       "      <td>2</td>\n",
       "      <td>10.48</td>\n",
       "    </tr>\n",
       "    <tr>\n",
       "      <th>4</th>\n",
       "      <td>5</td>\n",
       "      <td>10/13/2012</td>\n",
       "      <td>2</td>\n",
       "      <td>3.94</td>\n",
       "    </tr>\n",
       "  </tbody>\n",
       "</table>\n",
       "</div>"
      ],
      "text/plain": [
       "   TransactionID TransactionDate  CustomerID  Amount\n",
       "0              1        9/4/2012           1   20.26\n",
       "1              2       5/15/2012           2   10.87\n",
       "2              3       5/23/2014           2    2.21\n",
       "3              4      10/24/2014           2   10.48\n",
       "4              5      10/13/2012           2    3.94"
      ]
     },
     "execution_count": 2,
     "metadata": {},
     "output_type": "execute_result"
    }
   ],
   "source": [
    "clv.head()"
   ]
  },
  {
   "cell_type": "code",
   "execution_count": 3,
   "id": "b3bf9a9c",
   "metadata": {},
   "outputs": [
    {
     "data": {
      "text/html": [
       "<div>\n",
       "<style scoped>\n",
       "    .dataframe tbody tr th:only-of-type {\n",
       "        vertical-align: middle;\n",
       "    }\n",
       "\n",
       "    .dataframe tbody tr th {\n",
       "        vertical-align: top;\n",
       "    }\n",
       "\n",
       "    .dataframe thead th {\n",
       "        text-align: right;\n",
       "    }\n",
       "</style>\n",
       "<table border=\"1\" class=\"dataframe\">\n",
       "  <thead>\n",
       "    <tr style=\"text-align: right;\">\n",
       "      <th></th>\n",
       "      <th>TransactionID</th>\n",
       "      <th>CustomerID</th>\n",
       "      <th>Amount</th>\n",
       "    </tr>\n",
       "  </thead>\n",
       "  <tbody>\n",
       "    <tr>\n",
       "      <th>count</th>\n",
       "      <td>4186.000000</td>\n",
       "      <td>4186.000000</td>\n",
       "      <td>4186.000000</td>\n",
       "    </tr>\n",
       "    <tr>\n",
       "      <th>mean</th>\n",
       "      <td>2093.500000</td>\n",
       "      <td>516.165791</td>\n",
       "      <td>9.028082</td>\n",
       "    </tr>\n",
       "    <tr>\n",
       "      <th>std</th>\n",
       "      <td>1208.538442</td>\n",
       "      <td>291.465283</td>\n",
       "      <td>38.723909</td>\n",
       "    </tr>\n",
       "    <tr>\n",
       "      <th>min</th>\n",
       "      <td>1.000000</td>\n",
       "      <td>1.000000</td>\n",
       "      <td>-1.000000</td>\n",
       "    </tr>\n",
       "    <tr>\n",
       "      <th>25%</th>\n",
       "      <td>1047.250000</td>\n",
       "      <td>270.000000</td>\n",
       "      <td>3.310000</td>\n",
       "    </tr>\n",
       "    <tr>\n",
       "      <th>50%</th>\n",
       "      <td>2093.500000</td>\n",
       "      <td>522.000000</td>\n",
       "      <td>6.885000</td>\n",
       "    </tr>\n",
       "    <tr>\n",
       "      <th>75%</th>\n",
       "      <td>3139.750000</td>\n",
       "      <td>762.750000</td>\n",
       "      <td>11.690000</td>\n",
       "    </tr>\n",
       "    <tr>\n",
       "      <th>max</th>\n",
       "      <td>4186.000000</td>\n",
       "      <td>1000.000000</td>\n",
       "      <td>2033.000000</td>\n",
       "    </tr>\n",
       "  </tbody>\n",
       "</table>\n",
       "</div>"
      ],
      "text/plain": [
       "       TransactionID   CustomerID       Amount\n",
       "count    4186.000000  4186.000000  4186.000000\n",
       "mean     2093.500000   516.165791     9.028082\n",
       "std      1208.538442   291.465283    38.723909\n",
       "min         1.000000     1.000000    -1.000000\n",
       "25%      1047.250000   270.000000     3.310000\n",
       "50%      2093.500000   522.000000     6.885000\n",
       "75%      3139.750000   762.750000    11.690000\n",
       "max      4186.000000  1000.000000  2033.000000"
      ]
     },
     "execution_count": 3,
     "metadata": {},
     "output_type": "execute_result"
    }
   ],
   "source": [
    "clv.describe()"
   ]
  },
  {
   "cell_type": "code",
   "execution_count": 4,
   "id": "ea5a0150",
   "metadata": {},
   "outputs": [
    {
     "data": {
      "text/plain": [
       "TransactionID      0\n",
       "TransactionDate    0\n",
       "CustomerID         0\n",
       "Amount             0\n",
       "dtype: int64"
      ]
     },
     "execution_count": 4,
     "metadata": {},
     "output_type": "execute_result"
    }
   ],
   "source": [
    "clv.isnull().sum()"
   ]
  },
  {
   "cell_type": "code",
   "execution_count": 5,
   "id": "6c7e457c",
   "metadata": {},
   "outputs": [
    {
     "data": {
      "text/plain": [
       "False"
      ]
     },
     "execution_count": 5,
     "metadata": {},
     "output_type": "execute_result"
    }
   ],
   "source": [
    "clv.isnull().values.any()"
   ]
  },
  {
   "cell_type": "markdown",
   "id": "7eddb09d",
   "metadata": {},
   "source": [
    "1. Are there any missing values in the dataset?\n",
    "There are no missing values in the dataset"
   ]
  },
  {
   "cell_type": "code",
   "execution_count": 6,
   "id": "803c8915",
   "metadata": {},
   "outputs": [
    {
     "name": "stdout",
     "output_type": "stream",
     "text": [
      "2. What is the range of dates in the dataset?\n",
      "Minimum date - 2010-01-04\n",
      "Maximum date - 2015-12-31\n"
     ]
    }
   ],
   "source": [
    "print('2. What is the range of dates in the dataset?')\n",
    "clv['TransactionDate']=pd.to_datetime(clv['TransactionDate'])\n",
    "print('Minimum date - '+str(clv['TransactionDate'].min().date()))\n",
    "print('Maximum date - '+str(clv['TransactionDate'].max().date()))"
   ]
  },
  {
   "cell_type": "code",
   "execution_count": 7,
   "id": "75bc3836",
   "metadata": {},
   "outputs": [
    {
     "name": "stdout",
     "output_type": "stream",
     "text": [
      "3. How many unique customers are there in the dataset?\n",
      "There are  1000  unique customers in the dataset provided\n"
     ]
    }
   ],
   "source": [
    "print('3. How many unique customers are there in the dataset?')\n",
    "print('There are ', clv['CustomerID'].nunique() , ' unique customers in the dataset provided')"
   ]
  },
  {
   "cell_type": "code",
   "execution_count": 8,
   "id": "1c64ec56",
   "metadata": {},
   "outputs": [
    {
     "name": "stdout",
     "output_type": "stream",
     "text": [
      "4. Profile the data to give the standard descriptive statistics for the Amount field.\n",
      "What is the min, max, variance, and standard deviations?\n",
      "\n",
      "Min:  -1.0\n",
      "Max:  2033.0\n",
      "Variance:  1499.54\n",
      "Standard Deviation:  38.72\n"
     ]
    }
   ],
   "source": [
    "import statistics\n",
    "print('4. Profile the data to give the standard descriptive statistics for the Amount field.')\n",
    "print('What is the min, max, variance, and standard deviations?')\n",
    "print()\n",
    "print('Min: ', clv['Amount'].min())\n",
    "print('Max: ', clv['Amount'].max())\n",
    "print('Variance: ', round(clv['Amount'].var(),2))\n",
    "print('Standard Deviation: ', round(statistics.stdev(clv['Amount']),2))"
   ]
  },
  {
   "cell_type": "code",
   "execution_count": 9,
   "id": "3b5e69d2",
   "metadata": {},
   "outputs": [],
   "source": [
    "#storing the year of the transactions in a new column of the dataframe ('Year')"
   ]
  },
  {
   "cell_type": "code",
   "execution_count": 10,
   "id": "c40adaad",
   "metadata": {},
   "outputs": [
    {
     "data": {
      "text/plain": [
       "Text(0, 0.5, 'Total Amount Spent per year')"
      ]
     },
     "execution_count": 10,
     "metadata": {},
     "output_type": "execute_result"
    },
    {
     "data": {
      "image/png": "[encoded data removed]",
      "text/plain": [
       "<Figure size 432x288 with 1 Axes>"
      ]
     },
     "metadata": {
      "needs_background": "light"
     },
     "output_type": "display_data"
    }
   ],
   "source": [
    "import matplotlib.pyplot as plt\n",
    "clv['Year'] = pd.DatetimeIndex(clv['TransactionDate']).year\n",
    "clv.plot.line('TransactionDate', 'Amount', ylim=10)\n",
    "plt.xlabel(\"Transaction Date\")\n",
    "plt.ylabel(\"Total Amount Spent per year\")"
   ]
  },
  {
   "cell_type": "code",
   "execution_count": 11,
   "id": "903d392d",
   "metadata": {},
   "outputs": [
    {
     "data": {
      "image/png": "[encoded data removed]",
      "text/plain": [
       "<Figure size 432x288 with 1 Axes>"
      ]
     },
     "metadata": {
      "needs_background": "light"
     },
     "output_type": "display_data"
    }
   ],
   "source": [
    "plt.scatter(clv['Year'], clv['Amount'])\n",
    "plt.xlabel(\"Transaction Year\")\n",
    "plt.ylabel(\"Total Amount Spent per year\")\n",
    "plt.show()"
   ]
  },
  {
   "cell_type": "markdown",
   "id": "459f4494",
   "metadata": {},
   "source": [
    "5. Do transaction amounts in general increase over time (perhaps due to inflation)?\n",
    "\n",
    "After plotting a scatter plot of the year of the transactions against the amount, we can see that there is \n",
    "no general trend that we can notice between the amount and the year. "
   ]
  },
  {
   "cell_type": "markdown",
   "id": "ee4151cd",
   "metadata": {},
   "source": [
    "STEP 2 : EXPLORE THE DATASET\n",
    "\n",
    "Next, explore the dataset to check if there are any outlier or if there are values that don’t make sense. \n",
    "You can use statistical tests to check for outliers. \n",
    "Or, you can simply plot the histogram of the Amount and see if there is any value that appears to be abnormal. \n",
    "(Hint, is there any value that appears to be abnormally large or small? \n",
    "Could it be caused by bad entries (e.g. forgetting decimal separator?). \n",
    "In this step, you should write python scripts to help you answer the following questions.\n"
   ]
  },
  {
   "cell_type": "code",
   "execution_count": 12,
   "id": "38588498",
   "metadata": {},
   "outputs": [
    {
     "name": "stdout",
     "output_type": "stream",
     "text": [
      "3.31\n",
      "6.885\n",
      "11.69\n",
      "25.871499999999997\n",
      "2033.0\n"
     ]
    }
   ],
   "source": [
    "import numpy as np\n",
    "\n",
    "print(np.percentile(clv['Amount'], 25))\n",
    "print(np.percentile(clv['Amount'], 50))\n",
    "print(np.percentile(clv['Amount'], 75))\n",
    "print(np.percentile(clv['Amount'], 99))\n",
    "print(np.percentile(clv['Amount'], 100))"
   ]
  },
  {
   "cell_type": "markdown",
   "id": "c5357d16",
   "metadata": {},
   "source": [
    "After looking at the percentile values of Amount, it is clear that around 99 percent of the values are 25 or under. \n",
    "However, there are some outliers that are skewing the data towards the right. "
   ]
  },
  {
   "cell_type": "code",
   "execution_count": 13,
   "id": "4798de32",
   "metadata": {},
   "outputs": [
    {
     "data": {
      "text/plain": [
       "<AxesSubplot:xlabel='Amount'>"
      ]
     },
     "execution_count": 13,
     "metadata": {},
     "output_type": "execute_result"
    },
    {
     "data": {
      "image/png": "[encoded data removed]",
      "text/plain": [
       "<Figure size 432x288 with 1 Axes>"
      ]
     },
     "metadata": {
      "needs_background": "light"
     },
     "output_type": "display_data"
    }
   ],
   "source": [
    "import seaborn as sns\n",
    "sns.boxplot(x=clv['Amount'])"
   ]
  },
  {
   "cell_type": "markdown",
   "id": "dc881c1f",
   "metadata": {},
   "source": [
    "It is apparent after the boxlot that there appear to be some values greater than 250 that are the outliers. "
   ]
  },
  {
   "cell_type": "code",
   "execution_count": 14,
   "id": "b035b4e0",
   "metadata": {},
   "outputs": [
    {
     "data": {
      "image/png": "[encoded data removed]",
      "text/plain": [
       "<Figure size 432x288 with 1 Axes>"
      ]
     },
     "metadata": {
      "needs_background": "light"
     },
     "output_type": "display_data"
    }
   ],
   "source": [
    "plt.hist(clv['Amount'], bins=[0, 5, 10, 15, 20, 25, 30, 35, 40, 45, 50])\n",
    "plt.xlabel(\"Amount\")\n",
    "plt.ylabel(\"Number of Transactions per bin\")\n",
    "plt.show()"
   ]
  },
  {
   "cell_type": "code",
   "execution_count": 15,
   "id": "b0908def",
   "metadata": {},
   "outputs": [
    {
     "data": {
      "image/png": "[encoded data removed]",
      "text/plain": [
       "<Figure size 432x288 with 1 Axes>"
      ]
     },
     "metadata": {
      "needs_background": "light"
     },
     "output_type": "display_data"
    }
   ],
   "source": [
    "high = clv[clv['Amount']>0]\n",
    "plt.hist(np.log(high['Amount']))\n",
    "plt.xlabel(\"log(Amount)\")\n",
    "plt.ylabel(\"Number of Transactions per bin\")\n",
    "plt.show()"
   ]
  },
  {
   "cell_type": "code",
   "execution_count": 16,
   "id": "5e8a1e52",
   "metadata": {},
   "outputs": [
    {
     "name": "stdout",
     "output_type": "stream",
     "text": [
      "2\n"
     ]
    }
   ],
   "source": [
    "low = clv[clv['Amount']<0]\n",
    "print(len(low))"
   ]
  },
  {
   "cell_type": "code",
   "execution_count": 17,
   "id": "5ddb0e65",
   "metadata": {},
   "outputs": [
    {
     "name": "stdout",
     "output_type": "stream",
     "text": [
      "      TransactionID TransactionDate  CustomerID  Amount  Year\n",
      "23               24      2011-10-07           7  1003.0  2011\n",
      "49               50      2012-05-12          13    -1.0  2012\n",
      "211             212      2014-05-14          54  1027.0  2014\n",
      "3326           3327      2014-01-16         811    -1.0  2014\n",
      "4177           4178      2012-08-13        1000  2033.0  2012\n"
     ]
    }
   ],
   "source": [
    "outliers = clv[(clv['Amount']<0) | (clv['Amount']>250)]\n",
    "print(outliers)"
   ]
  },
  {
   "cell_type": "code",
   "execution_count": 18,
   "id": "4b83b96a",
   "metadata": {},
   "outputs": [
    {
     "name": "stdout",
     "output_type": "stream",
     "text": [
      "4186\n"
     ]
    }
   ],
   "source": [
    "print(len(clv))"
   ]
  },
  {
   "cell_type": "markdown",
   "id": "05b114a1",
   "metadata": {},
   "source": [
    "1. Are there any outliers?\n",
    "As evident from the histogram and the boxplot, we can clearly see that there are outliers in the dataset. \n",
    "Also, the lowest value in the Amount column is -1. Since amount can't be negative, all the negative values in the \n",
    "dataset are considered to be bad entries. \n",
    "The value at the 99th percentile of the 'Amount' column is $25.8. This means that 99% of the values in the Amount\n",
    "column are less than 25.8. \n",
    "The dataframe 'outliers' contains the 5 transactions with extremely low or extremely high values. \n",
    "\n",
    "\n",
    "2. If so how would you treat them?\n",
    "As outliers skew the data to right or left (right, in this case) and since we only have 5 such outliers in our data set, it is best to discard the outliers from our dataset before we make any further analysis on our data. \n",
    "However, it is also a good idea to analyse the outliers based on bad entries. For example, the values 1003, 1027 and 2033 in our dataset could be a result of forgetting the decimal separator. In this case, we consider them all outliers and discard them from our dataset. "
   ]
  },
  {
   "cell_type": "code",
   "execution_count": 19,
   "id": "90bc4169",
   "metadata": {},
   "outputs": [
    {
     "data": {
      "text/plain": [
       "4181"
      ]
     },
     "execution_count": 19,
     "metadata": {},
     "output_type": "execute_result"
    }
   ],
   "source": [
    "clv.drop(clv[(clv['Amount']<0) | (clv['Amount']>250)].index, inplace = True)\n",
    "len(clv)"
   ]
  },
  {
   "cell_type": "markdown",
   "id": "37d1bae4",
   "metadata": {},
   "source": [
    " STEP 3 - DETERMINE ORIGIN YEAR OF CUSTOMERS"
   ]
  },
  {
   "cell_type": "code",
   "execution_count": 20,
   "id": "e6fa49ce",
   "metadata": {},
   "outputs": [
    {
     "data": {
      "text/html": [
       "<div>\n",
       "<style scoped>\n",
       "    .dataframe tbody tr th:only-of-type {\n",
       "        vertical-align: middle;\n",
       "    }\n",
       "\n",
       "    .dataframe tbody tr th {\n",
       "        vertical-align: top;\n",
       "    }\n",
       "\n",
       "    .dataframe thead th {\n",
       "        text-align: right;\n",
       "    }\n",
       "</style>\n",
       "<table border=\"1\" class=\"dataframe\">\n",
       "  <thead>\n",
       "    <tr style=\"text-align: right;\">\n",
       "      <th></th>\n",
       "      <th>TransactionID</th>\n",
       "      <th>TransactionDate</th>\n",
       "      <th>CustomerID</th>\n",
       "      <th>Amount</th>\n",
       "      <th>Year</th>\n",
       "    </tr>\n",
       "  </thead>\n",
       "  <tbody>\n",
       "    <tr>\n",
       "      <th>0</th>\n",
       "      <td>1</td>\n",
       "      <td>2012-09-04</td>\n",
       "      <td>1</td>\n",
       "      <td>20.26</td>\n",
       "      <td>2012</td>\n",
       "    </tr>\n",
       "    <tr>\n",
       "      <th>1</th>\n",
       "      <td>2</td>\n",
       "      <td>2012-05-15</td>\n",
       "      <td>2</td>\n",
       "      <td>10.87</td>\n",
       "      <td>2012</td>\n",
       "    </tr>\n",
       "    <tr>\n",
       "      <th>2</th>\n",
       "      <td>3</td>\n",
       "      <td>2014-05-23</td>\n",
       "      <td>2</td>\n",
       "      <td>2.21</td>\n",
       "      <td>2014</td>\n",
       "    </tr>\n",
       "    <tr>\n",
       "      <th>3</th>\n",
       "      <td>4</td>\n",
       "      <td>2014-10-24</td>\n",
       "      <td>2</td>\n",
       "      <td>10.48</td>\n",
       "      <td>2014</td>\n",
       "    </tr>\n",
       "    <tr>\n",
       "      <th>4</th>\n",
       "      <td>5</td>\n",
       "      <td>2012-10-13</td>\n",
       "      <td>2</td>\n",
       "      <td>3.94</td>\n",
       "      <td>2012</td>\n",
       "    </tr>\n",
       "  </tbody>\n",
       "</table>\n",
       "</div>"
      ],
      "text/plain": [
       "   TransactionID TransactionDate  CustomerID  Amount  Year\n",
       "0              1      2012-09-04           1   20.26  2012\n",
       "1              2      2012-05-15           2   10.87  2012\n",
       "2              3      2014-05-23           2    2.21  2014\n",
       "3              4      2014-10-24           2   10.48  2014\n",
       "4              5      2012-10-13           2    3.94  2012"
      ]
     },
     "execution_count": 20,
     "metadata": {},
     "output_type": "execute_result"
    }
   ],
   "source": [
    "clv.head()"
   ]
  },
  {
   "cell_type": "code",
   "execution_count": 21,
   "id": "1c3599c3",
   "metadata": {},
   "outputs": [],
   "source": [
    "#storing all the unique customer IDs in a new array (UCID)\n",
    "#storing all the unique customer IDs and their corresponding oldest transaction year in a dictionary (CID_Year)"
   ]
  },
  {
   "cell_type": "code",
   "execution_count": 22,
   "id": "b9bb505a",
   "metadata": {},
   "outputs": [],
   "source": [
    "UCID = clv['CustomerID'].unique()\n",
    "CID_Year = {}\n",
    "\n",
    "for j in UCID:\n",
    "    a=clv[clv['CustomerID']==j]\n",
    "    value=(a['Year'].min())\n",
    "    key=j\n",
    "    CID_Year[key]=value      "
   ]
  },
  {
   "cell_type": "code",
   "execution_count": 23,
   "id": "bb5c7956",
   "metadata": {},
   "outputs": [],
   "source": [
    "#storing years as keys and all the acquired customer ID as values in a dictionary (yearwise)"
   ]
  },
  {
   "cell_type": "code",
   "execution_count": 24,
   "id": "823d6f35",
   "metadata": {},
   "outputs": [],
   "source": [
    "yearwise = {}\n",
    "value=[]\n",
    "for k, v in CID_Year.items():\n",
    "    key=v\n",
    "    for i,j in CID_Year.items():\n",
    "        if (key==j):\n",
    "            value.append(i)\n",
    "    yearwise[key]=value\n",
    "    value=[]"
   ]
  },
  {
   "cell_type": "code",
   "execution_count": 25,
   "id": "5cb426f6",
   "metadata": {},
   "outputs": [
    {
     "name": "stdout",
     "output_type": "stream",
     "text": [
      "dict_keys([2012, 2015, 2013, 2010, 2014, 2011])\n",
      "[1, 2, 3, 7, 8, 14, 18, 23, 24, 28, 31, 33, 34, 44, 65, 69, 70, 74, 83, 84, 88, 92, 99, 126, 133, 137, 145, 171, 178, 181, 187, 199, 202, 203, 212, 219, 223, 224, 225, 228, 229, 232, 233, 240, 245, 250, 260, 273, 274, 277, 278, 283, 284, 291, 294, 301, 308, 310, 316, 320, 329, 335, 339, 343, 345, 350, 351, 354, 371, 372, 378, 380, 392, 399, 400, 402, 403, 414, 417, 428, 436, 446, 449, 450, 463, 464, 473, 478, 486, 490, 498, 503, 505, 511, 512, 519, 539, 543, 560, 562, 570, 586, 591, 596, 597, 605, 611, 626, 627, 629, 636, 638, 645, 665, 669, 671, 691, 704, 709, 736, 739, 751, 762, 774, 791, 792, 795, 798, 799, 809, 814, 824, 826, 830, 835, 837, 841, 846, 847, 852, 855, 859, 864, 876, 878, 880, 899, 911, 918, 921, 924, 931, 933, 939, 942, 948, 949, 963, 966, 967, 975, 994, 996]\n"
     ]
    }
   ],
   "source": [
    "print(yearwise.keys())\n",
    "print(yearwise[2012])"
   ]
  },
  {
   "cell_type": "markdown",
   "id": "35d15c6a",
   "metadata": {},
   "source": [
    "STEP 4 : CALCULATE CUMMULATIVE TRANSACTION AMOUNTS"
   ]
  },
  {
   "cell_type": "code",
   "execution_count": 26,
   "id": "d30d6cdf",
   "metadata": {},
   "outputs": [],
   "source": [
    "#Cummulative Transaction Amounts\n",
    "\n",
    "def cmltv (year):\n",
    "    max_year = max(yearwise.keys(), key=int)\n",
    "    a=yearwise[year]\n",
    "    result = dict.fromkeys(range(year, max_year+1), 0)\n",
    "    for i in a:\n",
    "        test=clv[clv['CustomerID']==i]\n",
    "        amt=0\n",
    "        for b in range(year, max_year+1):\n",
    "            xtest=test[test['Year']==b]\n",
    "            for c in range(len(xtest)):\n",
    "                amt=amt+xtest.iloc[c,3]\n",
    "            temp=result[b]\n",
    "            result[b]=round((temp+amt),2)\n",
    "    return (list(result.values()))      "
   ]
  },
  {
   "cell_type": "code",
   "execution_count": 27,
   "id": "cd02e23b",
   "metadata": {
    "scrolled": false
   },
   "outputs": [
    {
     "name": "stdout",
     "output_type": "stream",
     "text": [
      "Origin                    12        24       36       48       60      72\n",
      "2010-01-01 - 2010-12-31 [2259.67, 3614.78, 5274.81, 6632.37, 7930.69, 8964.49]\n",
      "2011-01-01 - 2011-12-31 [2238.46, 3757.9, 5465.99, 6703.11, 7862.24]\n",
      "2012-01-01 - 2012-12-31 [2181.35, 3874.69, 5226.86, 6501.85]\n",
      "2013-01-01 - 2013-12-31 [2179.85, 3609.81, 5227.75]\n",
      "2014-01-01 - 2014-12-31 [1830.85, 3262.05]\n",
      "2015-01-01 - 2015-12-31 [1912.17]\n"
     ]
    }
   ],
   "source": [
    "print('Origin                    12        24       36       48       60      72')\n",
    "print('2010-01-01 - 2010-12-31', cmltv(2010))\n",
    "print('2011-01-01 - 2011-12-31', cmltv(2011))\n",
    "print('2012-01-01 - 2012-12-31', cmltv(2012))\n",
    "print('2013-01-01 - 2013-12-31', cmltv(2013))\n",
    "print('2014-01-01 - 2014-12-31', cmltv(2014))\n",
    "print('2015-01-01 - 2015-12-31', cmltv(2015))"
   ]
  },
  {
   "cell_type": "markdown",
   "id": "d2eb94af",
   "metadata": {},
   "source": [
    "STEP 5 : CALCULATE NUMBER OF NEW CUSTOMERS PER YEAR"
   ]
  },
  {
   "cell_type": "code",
   "execution_count": 28,
   "id": "e44dcc3c",
   "metadata": {},
   "outputs": [],
   "source": [
    "#New Customers\n",
    "\n",
    "def new_customer (year):\n",
    "    max_year = max(yearwise.keys(), key=int)\n",
    "    a=yearwise[year]\n",
    "    NewCustomers = dict.fromkeys(range(year, max_year+1), 0)\n",
    "    for i in a:\n",
    "        test=clv[clv['CustomerID']==i]\n",
    "        count=0\n",
    "        for b in range(year, max_year+1):\n",
    "            xtest=test[test['Year']==b]\n",
    "            count=+1\n",
    "            temp=NewCustomers[b]\n",
    "            NewCustomers[b]=(temp+count)\n",
    "    return (list(NewCustomers.values()))\n",
    "    "
   ]
  },
  {
   "cell_type": "code",
   "execution_count": 29,
   "id": "24e4eedb",
   "metadata": {},
   "outputs": [
    {
     "name": "stdout",
     "output_type": "stream",
     "text": [
      "Origin                   12    24   36   48   60   72\n",
      "2010-01-01 - 2010-12-31 [172, 172, 172, 172, 172, 172]\n",
      "2011-01-01 - 2011-12-31 [170, 170, 170, 170, 170]\n",
      "2012-01-01 - 2012-12-31 [163, 163, 163, 163]\n",
      "2013-01-01 - 2013-12-31 [180, 180, 180]\n",
      "2014-01-01 - 2014-12-31 [155, 155]\n",
      "2015-01-01 - 2015-12-31 [160]\n"
     ]
    }
   ],
   "source": [
    "print('Origin                   12    24   36   48   60   72')\n",
    "print('2010-01-01 - 2010-12-31', new_customer(2010))\n",
    "print('2011-01-01 - 2011-12-31', new_customer(2011))\n",
    "print('2012-01-01 - 2012-12-31', new_customer(2012))\n",
    "print('2013-01-01 - 2013-12-31', new_customer(2013))\n",
    "print('2014-01-01 - 2014-12-31', new_customer(2014))\n",
    "print('2015-01-01 - 2015-12-31', new_customer(2015))"
   ]
  },
  {
   "cell_type": "markdown",
   "id": "d6a31d33",
   "metadata": {},
   "source": [
    "STEP 6 : CALCULATE HISTORIC CLV"
   ]
  },
  {
   "cell_type": "code",
   "execution_count": 30,
   "id": "398f3dae",
   "metadata": {},
   "outputs": [],
   "source": [
    "def HistoricCLV (year):\n",
    "    res = [round(i / j, 2) for i, j in zip(cmltv(year),new_customer(year))]\n",
    "    return(res)"
   ]
  },
  {
   "cell_type": "code",
   "execution_count": 31,
   "id": "fb28c789",
   "metadata": {},
   "outputs": [
    {
     "name": "stdout",
     "output_type": "stream",
     "text": [
      "Historic CLV\n",
      "Origin                    12      24     36     48    60   72\n",
      "2010-01-01 - 2010-12-31 [13.14, 21.02, 30.67, 38.56, 46.11, 52.12]\n",
      "2011-01-01 - 2011-12-31 [13.17, 22.11, 32.15, 39.43, 46.25]\n",
      "2012-01-01 - 2012-12-31 [13.38, 23.77, 32.07, 39.89]\n",
      "2013-01-01 - 2013-12-31 [12.11, 20.05, 29.04]\n",
      "2014-01-01 - 2014-12-31 [11.81, 21.05]\n",
      "2015-01-01 - 2015-12-31 [11.95]\n"
     ]
    }
   ],
   "source": [
    "print('Historic CLV')\n",
    "print('Origin                    12      24     36     48    60   72')\n",
    "print('2010-01-01 - 2010-12-31', HistoricCLV(2010))\n",
    "print('2011-01-01 - 2011-12-31', HistoricCLV(2011))\n",
    "print('2012-01-01 - 2012-12-31', HistoricCLV(2012))\n",
    "print('2013-01-01 - 2013-12-31', HistoricCLV(2013))\n",
    "print('2014-01-01 - 2014-12-31', HistoricCLV(2014))\n",
    "print('2015-01-01 - 2015-12-31', HistoricCLV(2015))"
   ]
  },
  {
   "cell_type": "code",
   "execution_count": 32,
   "id": "730bcdd8",
   "metadata": {},
   "outputs": [
    {
     "data": {
      "image/png": "[encoded data removed]",
      "text/plain": [
       "<Figure size 432x288 with 1 Axes>"
      ]
     },
     "metadata": {
      "needs_background": "light"
     },
     "output_type": "display_data"
    }
   ],
   "source": [
    "import warnings\n",
    "warnings.filterwarnings(\"ignore\")\n",
    "\n",
    "min_year= min(yearwise.keys(), key=int)\n",
    "max_year =  max(yearwise.keys(), key=int)\n",
    "\n",
    "def historicplot(min_year,max_year):\n",
    "    fig, ax = plt.subplots()\n",
    "    for i in range(min_year, max_year):\n",
    "        curvelabel= (str(i)+'-01-01  - '+str(i)+'-12-31')\n",
    "        ax.plot(HistoricCLV(i), label=curvelabel)\n",
    "    plt.legend(title=\"Origin\")\n",
    "    plt.xlabel(\"Age\")\n",
    "    plt.ylabel(\"HistoricCLV\")\n",
    "    ax.set_xticklabels([\"0\", \"12\", \"24\", \"36\", \"48\", \"60\", \"72\"])\n",
    "    plt.show()\n",
    "        \n",
    "historicplot(min_year, max_year+1)"
   ]
  },
  {
   "cell_type": "code",
   "execution_count": 33,
   "id": "54ede2a2",
   "metadata": {},
   "outputs": [
    {
     "name": "stdout",
     "output_type": "stream",
     "text": [
      "12 12.72\n",
      "24 21.6\n",
      "36 30.98\n",
      "48 39.29\n",
      "60 46.18\n",
      "72 52.12\n"
     ]
    },
    {
     "data": {
      "image/png": "[encoded data removed]",
      "text/plain": [
       "<Figure size 432x288 with 2 Axes>"
      ]
     },
     "metadata": {
      "needs_background": "light"
     },
     "output_type": "display_data"
    }
   ],
   "source": [
    "def singlecurve(min_year, max_year):\n",
    "    bins=(max_year+1)-min_year\n",
    "    temp=[0]*bins\n",
    "    bin=[0]*bins\n",
    "    for i in range(min_year, max_year):\n",
    "        res=HistoricCLV(i)\n",
    "        for j in range(len(res)):\n",
    "            temp[j]=temp[j]+res[j]\n",
    "            bin[j]=bin[j]+1\n",
    "    result = [i / j for i, j in zip(temp, bin)]\n",
    "    return result\n",
    "    \n",
    "plt.plot(singlecurve(min_year, max_year), marker=\"+\")\n",
    "ax=plt.axes()\n",
    "ax.set_xticklabels([0, 12, 24, 36, 48, 60, 72])\n",
    "plt.xlabel(\"Age\")\n",
    "plt.ylabel(\"HistoricCLV\")\n",
    "scurve=singlecurve(min_year, max_year)\n",
    "\n",
    "age=12\n",
    "\n",
    "for i in range(len(scurve)):\n",
    "    print(str(age)+' '+str(round(scurve[i],2)))\n",
    "    age+=12"
   ]
  },
  {
   "cell_type": "markdown",
   "id": "de336a28",
   "metadata": {},
   "source": [
    "Step 7: Interpreting your results\n",
    "Interpret the historic CLV and briefly answer the following question: \n",
    "- How much have customers acquired in 2011 spent to date?\n",
    "\n",
    "Looking at the cummulative amount trianalysis, we can see that customers acquired in 2011 have spent $7862.24. \n",
    "\n",
    "\n",
    "- Do each group of customers exhibit similar or different patterns of spending? \n",
    "  What’s the implication for the business?\n",
    "    \n",
    "Looking at the cummulative amount trianalysis, we can see that amount of money spent by customers acquired in any \n",
    "year is comparable to the amount of money spent by customers acquired in any other year \n",
    "for a particular period of time after acquisition. \n",
    "\n",
    "\n",
    "For example, Customer acquired in 2010 spent 2259.67 in the first 12 months after acquisition. \n",
    "Similary, customers acquired in 2011, 2012, 2013, 2014 and 2015 spent within the range 1912 - 2238 which is quite \n",
    "comparable. Same can be said about every year group for every period after acquisition.\n",
    "\n",
    "[CUMMULATIVE AMOUNT]\n",
    "Origin                    12        24       36       48       60      72\n",
    "2010-01-01 - 2010-12-31 [2259.67, 3614.78, 5274.81, 6632.37, 7930.69, 8964.49]\n",
    "2011-01-01 - 2011-12-31 [2238.46, 3757.9, 5465.99, 6703.11, 7862.24]\n",
    "2012-01-01 - 2012-12-31 [2181.35, 3874.69, 5226.86, 6501.85]\n",
    "2013-01-01 - 2013-12-31 [2179.85, 3609.81, 5227.75]\n",
    "2014-01-01 - 2014-12-31 [1830.85, 3262.05]\n",
    "2015-01-01 - 2015-12-31 [1912.17]\n",
    "\n",
    "[Historic CLV]\n",
    "Origin                    12      24     36     48    60   72\n",
    "2010-01-01 - 2010-12-31 [13.14, 21.02, 30.67, 38.56, 46.11, 52.12]\n",
    "2011-01-01 - 2011-12-31 [13.17, 22.11, 32.15, 39.43, 46.25]\n",
    "2012-01-01 - 2012-12-31 [13.38, 23.77, 32.07, 39.89]\n",
    "2013-01-01 - 2013-12-31 [12.11, 20.05, 29.04]\n",
    "2014-01-01 - 2014-12-31 [11.81, 21.05]\n",
    "2015-01-01 - 2015-12-31 [11.95]\n",
    "\n",
    "As the customer spending follows a similar trend for customers acquired in different years, it is safe to assume\n",
    "that the $52.12 amount can be a good lower bound while assuming the CLV for future customers. "
   ]
  }
 ],
 "metadata": {
  "kernelspec": {
   "display_name": "Python 3 (ipykernel)",
   "language": "python",
   "name": "python3"
  },
  "language_info": {
   "codemirror_mode": {
    "name": "ipython",
    "version": 3
   },
   "file_extension": ".py",
   "mimetype": "text/x-python",
   "name": "python",
   "nbconvert_exporter": "python",
   "pygments_lexer": "ipython3",
   "version": "3.9.7"
  }
 },
 "nbformat": 4,
 "nbformat_minor": 5
}
